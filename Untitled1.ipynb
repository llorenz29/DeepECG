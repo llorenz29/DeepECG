{
 "cells": [
  {
   "cell_type": "code",
   "execution_count": 1,
   "id": "6a12ff71",
   "metadata": {},
   "outputs": [],
   "source": [
    "#importing libs\n",
    "import numpy as np\n",
    "import pandas as pd"
   ]
  },
  {
   "cell_type": "code",
   "execution_count": 2,
   "id": "db33bc35",
   "metadata": {},
   "outputs": [],
   "source": [
    "labels = np.load(\"/Users/lukelorenz/Desktop/MiddleburyCollege/Senior/701/EcgNN/sim_ecg_labels.npy\")\n",
    "data = np.load(\"/Users/lukelorenz/Desktop/MiddleburyCollege/Senior/701/EcgNN/sim_ecg_data.npy\")"
   ]
  },
  {
   "cell_type": "code",
   "execution_count": 4,
   "id": "4154e131",
   "metadata": {},
   "outputs": [
    {
     "data": {
      "text/plain": [
       "(6, 12, 2500)"
      ]
     },
     "execution_count": 4,
     "metadata": {},
     "output_type": "execute_result"
    }
   ],
   "source": [
    "data.shape"
   ]
  }
 ],
 "metadata": {
  "kernelspec": {
   "display_name": "tf2",
   "language": "python",
   "name": "tf2"
  },
  "language_info": {
   "codemirror_mode": {
    "name": "ipython",
    "version": 3
   },
   "file_extension": ".py",
   "mimetype": "text/x-python",
   "name": "python",
   "nbconvert_exporter": "python",
   "pygments_lexer": "ipython3",
   "version": "3.7.13"
  }
 },
 "nbformat": 4,
 "nbformat_minor": 5
}
